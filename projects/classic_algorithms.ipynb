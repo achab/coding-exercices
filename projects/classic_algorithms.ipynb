{
 "cells": [
  {
   "cell_type": "markdown",
   "metadata": {},
   "source": [
    "# Collatz Conjecture"
   ]
  },
  {
   "cell_type": "code",
   "execution_count": 3,
   "metadata": {
    "collapsed": true
   },
   "outputs": [],
   "source": [
    "def collatz(n):\n",
    "    c = 0\n",
    "    while n > 1:\n",
    "        if n % 2 == 0:\n",
    "            n /= 2\n",
    "            c += 1\n",
    "        else:\n",
    "            n *= 3\n",
    "            n += 1\n",
    "            c += 1\n",
    "    return c"
   ]
  },
  {
   "cell_type": "code",
   "execution_count": 4,
   "metadata": {
    "collapsed": false
   },
   "outputs": [
    {
     "name": "stdout",
     "output_type": "stream",
     "text": [
      "223\n"
     ]
    }
   ],
   "source": [
    "print collatz(13432543)"
   ]
  },
  {
   "cell_type": "markdown",
   "metadata": {},
   "source": [
    "# Merge Sort"
   ]
  },
  {
   "cell_type": "code",
   "execution_count": 6,
   "metadata": {
    "collapsed": true
   },
   "outputs": [],
   "source": [
    "def merge_sort(L):\n",
    "    if len(L):\n",
    "        return L\n",
    "    result = [0] * len(L)\n",
    "    mid = len(L) / 2\n",
    "    y = merge_sort(L[:mid])\n",
    "    z = merge_sort(L[mid:])\n",
    "    u, v = 0, 0\n",
    "    while len(y) > u or len(z) > v:\n",
    "        if y[u] > z[v]:\n",
    "            result.append(z[v])\n",
    "            v += 1\n",
    "        else:\n",
    "            result.append(y[u])\n",
    "            v += 1\n",
    "    result += y[u:]\n",
    "    result += z[v:]\n",
    "    return result"
   ]
  },
  {
   "cell_type": "markdown",
   "metadata": {},
   "source": [
    "# Bubble Sort"
   ]
  },
  {
   "cell_type": "code",
   "execution_count": 33,
   "metadata": {
    "collapsed": false
   },
   "outputs": [],
   "source": [
    "def bubble_sort(L):\n",
    "    i = len(L)\n",
    "    swap = True\n",
    "    while swap and i > 0:\n",
    "        swap = False\n",
    "        for j in range(i-1):\n",
    "            if L[j] > L[j+1]:\n",
    "                tmp = L[j]\n",
    "                L[j] = L[j+1]\n",
    "                L[j+1] = tmp\n",
    "                swap = True\n",
    "        i -= 1\n",
    "    return L    "
   ]
  },
  {
   "cell_type": "code",
   "execution_count": 34,
   "metadata": {
    "collapsed": true
   },
   "outputs": [],
   "source": [
    "L = [5,6,2,6,9,-4]"
   ]
  },
  {
   "cell_type": "code",
   "execution_count": 35,
   "metadata": {
    "collapsed": false
   },
   "outputs": [
    {
     "name": "stdout",
     "output_type": "stream",
     "text": [
      "[-4, 2, 5, 6, 6, 9]\n"
     ]
    }
   ],
   "source": [
    "print bubble_sort(L)"
   ]
  },
  {
   "cell_type": "code",
   "execution_count": 41,
   "metadata": {
    "collapsed": false
   },
   "outputs": [
    {
     "data": {
      "text/plain": [
       "0.79655982422794303"
      ]
     },
     "execution_count": 41,
     "metadata": {},
     "output_type": "execute_result"
    }
   ],
   "source": [
    "np.max(abs(pt0-pt1))"
   ]
  },
  {
   "cell_type": "code",
   "execution_count": null,
   "metadata": {
    "collapsed": true
   },
   "outputs": [],
   "source": []
  }
 ],
 "metadata": {
  "kernelspec": {
   "display_name": "Python 2",
   "language": "python",
   "name": "python2"
  },
  "language_info": {
   "codemirror_mode": {
    "name": "ipython",
    "version": 2
   },
   "file_extension": ".py",
   "mimetype": "text/x-python",
   "name": "python",
   "nbconvert_exporter": "python",
   "pygments_lexer": "ipython2",
   "version": "2.7.10"
  }
 },
 "nbformat": 4,
 "nbformat_minor": 0
}
