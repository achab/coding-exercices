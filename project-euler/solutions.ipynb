{
 "cells": [
  {
   "cell_type": "code",
   "execution_count": 6,
   "metadata": {
    "collapsed": false
   },
   "outputs": [
    {
     "name": "stdout",
     "output_type": "stream",
     "text": [
      "233168\n"
     ]
    }
   ],
   "source": [
    "# Problem 1\n",
    "def is_muliple_of_3(x): return x % 3 == 0\n",
    "def is_muliple_of_5(x): return x % 5 == 0\n",
    "print sum([x for x in range(1000) if is_muliple_of_3(x) or is_muliple_of_5(x)])"
   ]
  },
  {
   "cell_type": "code",
   "execution_count": 9,
   "metadata": {
    "collapsed": false
   },
   "outputs": [
    {
     "name": "stdout",
     "output_type": "stream",
     "text": [
      "4613732\n"
     ]
    }
   ],
   "source": [
    "# Problem 2\n",
    "a = 1\n",
    "b = 2\n",
    "s = a * (a % 2 == 0) + b * (b % 2 == 0)\n",
    "while b < 4e6:\n",
    "    a, b = b, a + b\n",
    "    s += b * (b % 2 == 0)\n",
    "print s"
   ]
  },
  {
   "cell_type": "code",
   "execution_count": 11,
   "metadata": {
    "collapsed": false
   },
   "outputs": [
    {
     "name": "stdout",
     "output_type": "stream",
     "text": [
      "6857\n"
     ]
    }
   ],
   "source": [
    "# Problem 3\n",
    "def prime_factors(n):\n",
    "    factors = []\n",
    "    d = 2\n",
    "    while n > 1:\n",
    "        while n % d == 0:\n",
    "            factors.append(d)\n",
    "            n /= d\n",
    "        d += 1\n",
    "    return factors\n",
    "print max(prime_factors(600851475143))"
   ]
  },
  {
   "cell_type": "code",
   "execution_count": 44,
   "metadata": {
    "collapsed": false
   },
   "outputs": [
    {
     "name": "stdout",
     "output_type": "stream",
     "text": [
      "906609\n"
     ]
    }
   ],
   "source": [
    "# Problem 4\n",
    "max_palindrome = 0\n",
    "for x in range(100, 1000):\n",
    "    for y in range(100, x+1):\n",
    "        x_dot_y = x * y\n",
    "        s = str(x_dot_y)\n",
    "        i = (len(s) +1) / 2\n",
    "        if s[:i] == s[-i:][::-1]:\n",
    "            if x_dot_y > max_palindrome:\n",
    "                max_palindrome = x_dot_y\n",
    "print max_palindrome"
   ]
  },
  {
   "cell_type": "code",
   "execution_count": 53,
   "metadata": {
    "collapsed": false
   },
   "outputs": [
    {
     "name": "stdout",
     "output_type": "stream",
     "text": [
      "232792560\n"
     ]
    }
   ],
   "source": [
    "# Problem 5\n",
    "def pgcd(a, b):\n",
    "    if a > b:\n",
    "        a, b = b, a\n",
    "    if b % a == 0:\n",
    "        return a\n",
    "    else:\n",
    "        return pgcd(a, b % a)\n",
    "def ppcm(a, b):\n",
    "    if a * b == 0:\n",
    "        return 0\n",
    "    else: \n",
    "        return a * b / pgcd(a, b)\n",
    "print reduce(ppcm, range(2,21))"
   ]
  },
  {
   "cell_type": "code",
   "execution_count": 4,
   "metadata": {
    "collapsed": false
   },
   "outputs": [
    {
     "name": "stdout",
     "output_type": "stream",
     "text": [
      "25164150\n"
     ]
    }
   ],
   "source": [
    "# Problem 6\n",
    "def sum_of_squares(n):\n",
    "    return n * (n + 1) * (2 * n + 1) / 6\n",
    "def square_of_sum(n):\n",
    "    return (n * (n + 1)) ** 2 / 4\n",
    "print square_of_sum(100) - sum_of_squares(100)"
   ]
  },
  {
   "cell_type": "code",
   "execution_count": 26,
   "metadata": {
    "collapsed": false
   },
   "outputs": [
    {
     "name": "stdout",
     "output_type": "stream",
     "text": [
      "104743\n"
     ]
    }
   ],
   "source": [
    "# Problem 7\n",
    "from math import sqrt\n",
    "def is_prime(n):\n",
    "    if n < 2:\n",
    "        return False\n",
    "    m = sqrt(n)\n",
    "    q = 2\n",
    "    while q <= m:\n",
    "        if n % q == 0:\n",
    "            return False\n",
    "        q += 1\n",
    "    return True\n",
    "def prime_range(n):\n",
    "    i = 0\n",
    "    j = 0\n",
    "    while i < n:\n",
    "        while not is_prime(j):\n",
    "            j += 1\n",
    "        yield j\n",
    "        j += 1\n",
    "        i += 1\n",
    "for i, p in enumerate(prime_range(10001)): \n",
    "    if i == 10000:\n",
    "        print p"
   ]
  },
  {
   "cell_type": "code",
   "execution_count": 35,
   "metadata": {
    "collapsed": false
   },
   "outputs": [
    {
     "name": "stdout",
     "output_type": "stream",
     "text": [
      "23514624000\n"
     ]
    }
   ],
   "source": [
    "# Problem 8\n",
    "thousand_digits = str(7316717653133062491922511967442657474235534919493496983520312774506326239578318016984801869478851843858615607891129494954595017379583319528532088055111254069874715852386305071569329096329522744304355766896648950445244523161731856403098711121722383113622298934233803081353362766142828064444866452387493035890729629049156044077239071381051585930796086670172427121883998797908792274921901699720888093776657273330010533678812202354218097512545405947522435258490771167055601360483958644670632441572215539753697817977846174064955149290862569321978468622482839722413756570560574902614079729686524145351004748216637048440319989000889524345065854122758866688116427171479924442928230863465674813919123162824586178664583591245665294765456828489128831426076900422421902267105562632111110937054421750694165896040807198403850962455444362981230987879927244284909188845801561660979191338754992005240636899125607176060588611646710940507754100225698315520005593572972571636269561882670428252483600823257530420752963450)\n",
    "def prod(a, b):\n",
    "    x = int(a)\n",
    "    y = int(b)\n",
    "    return x * y\n",
    "a = 0\n",
    "greatest_product = 0\n",
    "while a + 13 <= 1000:\n",
    "    current_product = reduce(prod, thousand_digits[a:(a+13)])\n",
    "    if current_product > greatest_product:\n",
    "        greatest_product = current_product\n",
    "    a += 1\n",
    "print greatest_product"
   ]
  },
  {
   "cell_type": "code",
   "execution_count": 9,
   "metadata": {
    "collapsed": false
   },
   "outputs": [
    {
     "name": "stdout",
     "output_type": "stream",
     "text": [
      "31875000.0\n"
     ]
    }
   ],
   "source": [
    "# Problem 9\n",
    "for b in range(1, 1000):\n",
    "    for a in range(1, b):\n",
    "        if (a+b)*2e3 - 2*a*b == 1e6:\n",
    "            print a * b * (1e3 - a - b)"
   ]
  },
  {
   "cell_type": "code",
   "execution_count": 11,
   "metadata": {
    "collapsed": false
   },
   "outputs": [
    {
     "name": "stdout",
     "output_type": "stream",
     "text": [
      "142913828922\n"
     ]
    }
   ],
   "source": [
    "# Problem 10\n",
    "from math import sqrt\n",
    "def is_prime(n):\n",
    "    if n < 2:\n",
    "        return False\n",
    "    m = sqrt(n)\n",
    "    q = 2\n",
    "    while q <= m:\n",
    "        if n % q == 0:\n",
    "            return False\n",
    "        q += 1\n",
    "    return True\n",
    "s = 0\n",
    "for n in range(2000000):\n",
    "    if is_prime(n):\n",
    "        s += n\n",
    "print s"
   ]
  },
  {
   "cell_type": "code",
   "execution_count": 38,
   "metadata": {
    "collapsed": false
   },
   "outputs": [],
   "source": [
    "# Problem 11\n",
    "import numpy as np\n",
    "A = np.zeros(0)\n",
    "with open('grid_20x20.txt', 'rb') as f:\n",
    "    for line in f:\n",
    "        B = np.array([int(x) for x in line.split(' ')])\n",
    "        A = np.append(A, B)\n",
    "max_prod = 0.\n",
    "L = [1, 19, 20, 21]\n",
    "for u in L:\n",
    "    for i in range(400)"
   ]
  },
  {
   "cell_type": "code",
   "execution_count": null,
   "metadata": {
    "collapsed": true
   },
   "outputs": [],
   "source": []
  }
 ],
 "metadata": {
  "kernelspec": {
   "display_name": "Python 2",
   "language": "python",
   "name": "python2"
  },
  "language_info": {
   "codemirror_mode": {
    "name": "ipython",
    "version": 2
   },
   "file_extension": ".py",
   "mimetype": "text/x-python",
   "name": "python",
   "nbconvert_exporter": "python",
   "pygments_lexer": "ipython2",
   "version": "2.7.10"
  }
 },
 "nbformat": 4,
 "nbformat_minor": 0
}
