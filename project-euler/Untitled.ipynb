{
 "cells": [
  {
   "cell_type": "code",
   "execution_count": 6,
   "metadata": {
    "collapsed": false
   },
   "outputs": [
    {
     "name": "stdout",
     "output_type": "stream",
     "text": [
      "233168\n"
     ]
    }
   ],
   "source": [
    "# Problem 1\n",
    "def is_muliple_of_3(x): return x % 3 == 0\n",
    "def is_muliple_of_5(x): return x % 5 == 0\n",
    "print sum([x for x in range(1000) if is_muliple_of_3(x) or is_muliple_of_5(x)])"
   ]
  },
  {
   "cell_type": "code",
   "execution_count": 9,
   "metadata": {
    "collapsed": false
   },
   "outputs": [
    {
     "name": "stdout",
     "output_type": "stream",
     "text": [
      "4613732\n"
     ]
    }
   ],
   "source": [
    "# Problem 2\n",
    "a = 1\n",
    "b = 2\n",
    "s = a * (a % 2 == 0) + b * (b % 2 == 0)\n",
    "while b < 4e6:\n",
    "    a, b = b, a + b\n",
    "    s += b * (b % 2 == 0)\n",
    "print s"
   ]
  },
  {
   "cell_type": "code",
   "execution_count": 11,
   "metadata": {
    "collapsed": false
   },
   "outputs": [
    {
     "name": "stdout",
     "output_type": "stream",
     "text": [
      "6857\n"
     ]
    }
   ],
   "source": [
    "# Problem 3\n",
    "def prime_factors(n):\n",
    "    factors = []\n",
    "    d = 2\n",
    "    while n > 1:\n",
    "        while n % d == 0:\n",
    "            factors.append(d)\n",
    "            n /= d\n",
    "        d += 1\n",
    "    return factors\n",
    "print max(prime_factors(600851475143))"
   ]
  },
  {
   "cell_type": "code",
   "execution_count": 44,
   "metadata": {
    "collapsed": false
   },
   "outputs": [
    {
     "name": "stdout",
     "output_type": "stream",
     "text": [
      "906609\n"
     ]
    }
   ],
   "source": [
    "# Problem 4\n",
    "max_palindrome = 0\n",
    "for x in range(100, 1000):\n",
    "    for y in range(100, x+1):\n",
    "        x_dot_y = x * y\n",
    "        s = str(x_dot_y)\n",
    "        i = (len(s) +1) / 2\n",
    "        if s[:i] == s[-i:][::-1]:\n",
    "            if x_dot_y > max_palindrome:\n",
    "                max_palindrome = x_dot_y\n",
    "print max_palindrome"
   ]
  },
  {
   "cell_type": "code",
   "execution_count": 53,
   "metadata": {
    "collapsed": false
   },
   "outputs": [
    {
     "name": "stdout",
     "output_type": "stream",
     "text": [
      "232792560\n"
     ]
    }
   ],
   "source": [
    "# Problem 5\n",
    "def pgcd(a, b):\n",
    "    if a > b:\n",
    "        a, b = b, a\n",
    "    if b % a == 0:\n",
    "        return a\n",
    "    else:\n",
    "        return pgcd(a, b % a)\n",
    "def ppcm(a, b):\n",
    "    if a * b == 0:\n",
    "        return 0\n",
    "    else: \n",
    "        return a * b / pgcd(a, b)\n",
    "print reduce(ppcm, range(2,21))"
   ]
  },
  {
   "cell_type": "code",
   "execution_count": null,
   "metadata": {
    "collapsed": true
   },
   "outputs": [],
   "source": []
  }
 ],
 "metadata": {
  "kernelspec": {
   "display_name": "Python 2",
   "language": "python",
   "name": "python2"
  },
  "language_info": {
   "codemirror_mode": {
    "name": "ipython",
    "version": 2
   },
   "file_extension": ".py",
   "mimetype": "text/x-python",
   "name": "python",
   "nbconvert_exporter": "python",
   "pygments_lexer": "ipython2",
   "version": "2.7.10"
  }
 },
 "nbformat": 4,
 "nbformat_minor": 0
}
