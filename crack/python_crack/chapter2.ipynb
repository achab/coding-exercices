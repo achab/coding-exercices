{
 "cells": [
  {
   "cell_type": "code",
   "execution_count": 2,
   "metadata": {
    "collapsed": false
   },
   "outputs": [],
   "source": [
    "from chapter2 import *"
   ]
  },
  {
   "cell_type": "markdown",
   "metadata": {},
   "source": [
    "# exercise 2.1"
   ]
  },
  {
   "cell_type": "code",
   "execution_count": 3,
   "metadata": {
    "collapsed": true
   },
   "outputs": [],
   "source": [
    "# using a hash table\n",
    "def remove_dups(self):\n",
    "    if self.head is not None:\n",
    "        current = self.head\n",
    "        seen_values = [current.value]\n",
    "        while current.next is not None:\n",
    "            if current.next.value in seen_values:\n",
    "                current.next = current.next.next\n",
    "            else:\n",
    "                seen_values.append(current.next.value)\n",
    "                current = current.next"
   ]
  },
  {
   "cell_type": "code",
   "execution_count": 4,
   "metadata": {
    "collapsed": true
   },
   "outputs": [],
   "source": [
    "# use no data structure\n",
    "def remove_dups2(self):\n",
    "    if self.head is not None:\n",
    "        current = self.head\n",
    "        while current is not None:\n",
    "            runner = current\n",
    "            while runner.next is not None:\n",
    "                if runner.next.value == current.value:\n",
    "                    runner.next = runner.next.next\n",
    "                else:\n",
    "                    runner = runner.next\n",
    "            current = current.next"
   ]
  },
  {
   "cell_type": "code",
   "execution_count": 5,
   "metadata": {
    "collapsed": false
   },
   "outputs": [
    {
     "name": "stdout",
     "output_type": "stream",
     "text": [
      "LinkedList  [ 5->4->4->5->6->7->6->4->4 ]\n",
      "LinkedList  [ 5->4->6->7 ]\n",
      "\n",
      "LinkedList  [ 3->4->6->7->4->3->3->5->7 ]\n",
      "LinkedList  [ 3->4->6->7->5 ]\n"
     ]
    }
   ],
   "source": [
    "L1 = random_LinkedList(9, 3, 7)\n",
    "print L1\n",
    "remove_dups(L1)\n",
    "print L1\n",
    "print\n",
    "L2 = random_LinkedList(9, 3, 7)\n",
    "print L2\n",
    "remove_dups2(L2)\n",
    "print L2"
   ]
  },
  {
   "cell_type": "markdown",
   "metadata": {},
   "source": [
    "# exercise 2.2"
   ]
  },
  {
   "cell_type": "code",
   "execution_count": 18,
   "metadata": {
    "collapsed": true
   },
   "outputs": [],
   "source": [
    "def find_nth_to_last(linkedlist, n):\n",
    "    assert (n > 0), \"n should be greater or equal than 1.\"\n",
    "    runner = linkedlist.head\n",
    "    for _ in range(n-1):\n",
    "        assert runner.next is not None, \"n exceeds the length of the LinkedList.\"\n",
    "        runner = runner.next\n",
    "    current = linkedlist.head\n",
    "    while runner.next is not None:\n",
    "        runner = runner.next\n",
    "        current = current.next\n",
    "    return current"
   ]
  },
  {
   "cell_type": "code",
   "execution_count": 20,
   "metadata": {
    "collapsed": false
   },
   "outputs": [
    {
     "name": "stdout",
     "output_type": "stream",
     "text": [
      "LinkedList  [ 3->3->3->5->7->3->3->7->6 ]\n",
      "7\n"
     ]
    }
   ],
   "source": [
    "L1 = random_LinkedList(9, 3, 7)\n",
    "print L1\n",
    "node = find_nth_to_last(L1, 5)\n",
    "print node"
   ]
  },
  {
   "cell_type": "markdown",
   "metadata": {},
   "source": [
    "# exercise 2.3"
   ]
  },
  {
   "cell_type": "code",
   "execution_count": 23,
   "metadata": {
    "collapsed": true
   },
   "outputs": [],
   "source": [
    "def delete_one_node(linkedlist, node):\n",
    "    if node.next is not None:\n",
    "        node.value = node.next.value\n",
    "        node.next = node.next.next\n",
    "    else:\n",
    "        node.value = None"
   ]
  },
  {
   "cell_type": "code",
   "execution_count": 24,
   "metadata": {
    "collapsed": false
   },
   "outputs": [
    {
     "name": "stdout",
     "output_type": "stream",
     "text": [
      "LinkedList  [ 7->6->7->5->3->7->3->6->5 ]\n",
      "LinkedList  [ 7->6->7->3->7->3->6->5 ]\n"
     ]
    }
   ],
   "source": [
    "L1 = random_LinkedList(9, 3, 7)\n",
    "print L1\n",
    "node = L1.head.next.next.next\n",
    "delete_one_node(L1, node)\n",
    "print L1"
   ]
  },
  {
   "cell_type": "markdown",
   "metadata": {},
   "source": [
    "# exercise 2.4"
   ]
  },
  {
   "cell_type": "code",
   "execution_count": null,
   "metadata": {
    "collapsed": true
   },
   "outputs": [],
   "source": []
  }
 ],
 "metadata": {
  "kernelspec": {
   "display_name": "Python 2",
   "language": "python",
   "name": "python2"
  },
  "language_info": {
   "codemirror_mode": {
    "name": "ipython",
    "version": 2
   },
   "file_extension": ".py",
   "mimetype": "text/x-python",
   "name": "python",
   "nbconvert_exporter": "python",
   "pygments_lexer": "ipython2",
   "version": "2.7.10"
  }
 },
 "nbformat": 4,
 "nbformat_minor": 0
}
