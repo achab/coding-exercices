{
 "cells": [
  {
   "cell_type": "code",
   "execution_count": 1,
   "metadata": {
    "collapsed": false
   },
   "outputs": [],
   "source": [
    "from chapter2 import *"
   ]
  },
  {
   "cell_type": "markdown",
   "metadata": {},
   "source": [
    "# exercise 2.1"
   ]
  },
  {
   "cell_type": "code",
   "execution_count": 2,
   "metadata": {
    "collapsed": true
   },
   "outputs": [],
   "source": [
    "# using a hash table\n",
    "def remove_dups(self):\n",
    "    if self.head is not None:\n",
    "        current = self.head\n",
    "        seen_values = [current.value]\n",
    "        while current.next is not None:\n",
    "            if current.next.value in seen_values:\n",
    "                current.next = current.next.next\n",
    "            else:\n",
    "                seen_values.append(current.next.value)\n",
    "                current = current.next"
   ]
  },
  {
   "cell_type": "code",
   "execution_count": 3,
   "metadata": {
    "collapsed": true
   },
   "outputs": [],
   "source": [
    "# use no data structure\n",
    "def remove_dups2(self):\n",
    "    if self.head is not None:\n",
    "        current = self.head\n",
    "        while current is not None:\n",
    "            runner = current\n",
    "            while runner.next is not None:\n",
    "                if runner.next.value == current.value:\n",
    "                    runner.next = runner.next.next\n",
    "                else:\n",
    "                    runner = runner.next\n",
    "            current = current.next"
   ]
  },
  {
   "cell_type": "code",
   "execution_count": 4,
   "metadata": {
    "collapsed": false
   },
   "outputs": [
    {
     "name": "stdout",
     "output_type": "stream",
     "text": [
      "LinkedList  [ 7->6->3->6->3->6->4->5->5 ]\n",
      "LinkedList  [ 7->6->3->4->5 ]\n",
      "\n",
      "LinkedList  [ 3->3->7->6->6->5->5->3->6 ]\n",
      "LinkedList  [ 3->7->6->5 ]\n"
     ]
    }
   ],
   "source": [
    "L1 = random_LinkedList(9, 3, 7)\n",
    "print L1\n",
    "remove_dups(L1)\n",
    "print L1\n",
    "print\n",
    "L2 = random_LinkedList(9, 3, 7)\n",
    "print L2\n",
    "remove_dups2(L2)\n",
    "print L2"
   ]
  },
  {
   "cell_type": "markdown",
   "metadata": {},
   "source": [
    "# exercise 2.2"
   ]
  },
  {
   "cell_type": "code",
   "execution_count": null,
   "metadata": {
    "collapsed": true
   },
   "outputs": [],
   "source": []
  }
 ],
 "metadata": {
  "kernelspec": {
   "display_name": "Python 2",
   "language": "python",
   "name": "python2"
  },
  "language_info": {
   "codemirror_mode": {
    "name": "ipython",
    "version": 2
   },
   "file_extension": ".py",
   "mimetype": "text/x-python",
   "name": "python",
   "nbconvert_exporter": "python",
   "pygments_lexer": "ipython2",
   "version": "2.7.10"
  }
 },
 "nbformat": 4,
 "nbformat_minor": 0
}
