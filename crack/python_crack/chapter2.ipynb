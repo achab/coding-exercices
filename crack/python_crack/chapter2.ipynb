{
 "cells": [
  {
   "cell_type": "code",
   "execution_count": 4,
   "metadata": {
    "collapsed": true
   },
   "outputs": [],
   "source": [
    "class Node(object):\n",
    "    \n",
    "    def __init__(self, data=None, next_node=None):\n",
    "        self.data = data\n",
    "        self.next_node = next_node\n",
    "        \n",
    "    def set_data(self, data):\n",
    "        self.data = data\n",
    "        \n",
    "    def set_next(self, new_next):\n",
    "        self.next_node = new_next\n",
    "        \n",
    "    def append_to_tail(self, data):\n",
    "        end = Node(data=data)\n",
    "        n = self\n",
    "        while (n.next_node is not None):\n",
    "            n = n.next_node\n",
    "        n.next_node = end\n",
    "        \n",
    "    def size(self):\n",
    "        current = self\n",
    "        count = 0\n",
    "        while current:\n",
    "            current = current.next_node\n",
    "            count += 1\n",
    "        return count\n",
    "        \n",
    "    def delete_node(self, data2delete):\n",
    "        n = Node(self.data,self.next_node)\n",
    "        if n.data == data2delete:\n",
    "            return n.next_node\n",
    "        while n.next_node is not None:\n",
    "            if n.next_node.data == data2delete:\n",
    "                n.set_next(n.next_node.next_node)\n",
    "                return n\n",
    "            n = n.next_node\n",
    "        return n"
   ]
  },
  {
   "cell_type": "code",
   "execution_count": 5,
   "metadata": {
    "collapsed": false
   },
   "outputs": [
    {
     "name": "stdout",
     "output_type": "stream",
     "text": [
      "5\n",
      "None\n",
      "5\n",
      "8\n",
      "94\n",
      "None\n"
     ]
    }
   ],
   "source": [
    "n = Node(5)\n",
    "print(n.data)\n",
    "print(n.next_node)\n",
    "n.append_to_tail(data=8)\n",
    "n.append_to_tail(data=94)\n",
    "print(n.data)\n",
    "print(n.next_node.data)\n",
    "print(n.next_node.next_node.data)\n",
    "print(n.next_node.next_node.next_node)"
   ]
  },
  {
   "cell_type": "code",
   "execution_count": 6,
   "metadata": {
    "collapsed": false
   },
   "outputs": [
    {
     "name": "stdout",
     "output_type": "stream",
     "text": [
      "3\n",
      "5\n",
      "8\n",
      "2\n",
      "5\n",
      "94\n"
     ]
    }
   ],
   "source": [
    "print(n.size())\n",
    "print(n.data)\n",
    "print(n.next_node.data)\n",
    "n = n.delete_node(8)\n",
    "print(n.size())\n",
    "print(n.data)\n",
    "print(n.next_node.data)"
   ]
  },
  {
   "cell_type": "code",
   "execution_count": null,
   "metadata": {
    "collapsed": true
   },
   "outputs": [],
   "source": [
    "class Node(object):\n",
    "    \n",
    "    def __init__(self, data=None, next_node=None):\n",
    "        self.data = data\n",
    "        self.next_node = next_node\n",
    "        \n",
    "    def get_data(self):\n",
    "        return self.data\n",
    "    \n",
    "    def get_next(self):\n",
    "        return self.next_node\n",
    "    \n",
    "    def set_next(self, new_next):\n",
    "        self.next_node = new_next\n",
    "        \n",
    "class LinkedList(object):\n",
    "    \n",
    "    def __init__(self, head=None):\n",
    "        self.head = head\n",
    "        \n",
    "    def insert(self, data):\n",
    "        new_node = Node(data)\n",
    "        new_node.set_next(self.head)\n",
    "        self.head = new_node\n",
    "        \n",
    "    def size(self):\n",
    "        current = self.head\n",
    "        count = 0\n",
    "        while current:\n",
    "            count += 1\n",
    "            current = current.get_next()\n",
    "        return count\n",
    "    \n",
    "    def search(self, data):\n",
    "        current = self.head\n",
    "        found = False\n",
    "        while current and not found:\n",
    "            if current.get_data() == data:\n",
    "                found = True\n",
    "            else:\n",
    "                current = current.next()\n",
    "        if current is None:\n",
    "            raise ValueError(\"Data is not in list.\")\n",
    "        return current\n",
    "    \n",
    "    def contains(self, data):\n",
    "        current = self.head\n",
    "        found = False\n",
    "        while current and not found:\n",
    "            if current.get_data() == data:\n",
    "                found = True\n",
    "            else:\n",
    "                current = current.next()\n",
    "        return found\n",
    "    \n",
    "    def delete(self, data):\n",
    "        current = self.head\n",
    "        previous = None\n",
    "        found = False\n",
    "        while current and found is False:\n",
    "            if current.get_data() == data:\n",
    "                found = True\n",
    "            else:\n",
    "                previous = current\n",
    "                current = current.get_next()\n",
    "        if current is None:\n",
    "            raise ValueError(\"Data not in list\")\n",
    "        if previous is None:\n",
    "            self.head = current.get_next()\n",
    "        else:\n",
    "            previous.set_next(current.get_next())"
   ]
  },
  {
   "cell_type": "markdown",
   "metadata": {},
   "source": [
    "# exercise 2.1"
   ]
  },
  {
   "cell_type": "code",
   "execution_count": null,
   "metadata": {
    "collapsed": true
   },
   "outputs": [],
   "source": [
    "def remove_dups(self):\n",
    "    n = Node(self.data,self.next_node)\n",
    "\n",
    "    if n.data == data2delete:\n",
    "        return n.next_node\n",
    "    while n.next_node is not None:\n",
    "        if n.next_node.data == data2delete:\n",
    "            n.set_next(n.next_node.next_node)\n",
    "            return n\n",
    "        n = n.next_node\n",
    "    return n"
   ]
  },
  {
   "cell_type": "code",
   "execution_count": null,
   "metadata": {
    "collapsed": true
   },
   "outputs": [],
   "source": []
  }
 ],
 "metadata": {
  "kernelspec": {
   "display_name": "Python 2",
   "language": "python",
   "name": "python2"
  },
  "language_info": {
   "codemirror_mode": {
    "name": "ipython",
    "version": 2
   },
   "file_extension": ".py",
   "mimetype": "text/x-python",
   "name": "python",
   "nbconvert_exporter": "python",
   "pygments_lexer": "ipython2",
   "version": "2.7.10"
  }
 },
 "nbformat": 4,
 "nbformat_minor": 0
}
