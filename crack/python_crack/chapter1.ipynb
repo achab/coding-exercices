{
 "cells": [
  {
   "cell_type": "markdown",
   "metadata": {},
   "source": [
    "# exercise 1.1"
   ]
  },
  {
   "cell_type": "code",
   "execution_count": null,
   "metadata": {
    "collapsed": true
   },
   "outputs": [],
   "source": [
    "def string_with_unique_characters(s):\n",
    "    d = {}\n",
    "    for x in s:\n",
    "        d[x] = 1\n",
    "    return len(d) == len(s)\n",
    "def string_with_unique_characters_2(s):\n",
    "    c = 0\n",
    "    for i, x in enumerate(s):\n",
    "        for j, y in enumerate(s):\n",
    "            if x == y and i != j:\n",
    "                c += 1\n",
    "    return c == 0"
   ]
  },
  {
   "cell_type": "code",
   "execution_count": 19,
   "metadata": {
    "collapsed": false
   },
   "outputs": [
    {
     "name": "stdout",
     "output_type": "stream",
     "text": [
      "False\n",
      "True\n",
      "False\n",
      "True\n"
     ]
    }
   ],
   "source": [
    "print string_with_unique_characters('massil')\n",
    "print string_with_unique_characters('masil')\n",
    "print string_with_unique_characters_2('massil')\n",
    "print string_with_unique_characters_2('masil')"
   ]
  },
  {
   "cell_type": "markdown",
   "metadata": {},
   "source": [
    "# exercise 1.2"
   ]
  },
  {
   "cell_type": "code",
   "execution_count": 27,
   "metadata": {
    "collapsed": true
   },
   "outputs": [],
   "source": [
    "def reverse_string(s):\n",
    "    return s[::-1]\n",
    "def reverse_string_2(s):\n",
    "    s_reverse = ''\n",
    "    for x in s:\n",
    "        s_reverse = x + s_reverse\n",
    "    return s_reverse"
   ]
  },
  {
   "cell_type": "code",
   "execution_count": 28,
   "metadata": {
    "collapsed": false
   },
   "outputs": [
    {
     "name": "stdout",
     "output_type": "stream",
     "text": [
      "lissam\n",
      "lissam\n"
     ]
    }
   ],
   "source": [
    "print reverse_string('massil')\n",
    "print reverse_string_2('massil')"
   ]
  },
  {
   "cell_type": "markdown",
   "metadata": {},
   "source": [
    "# exercise 1.3"
   ]
  },
  {
   "cell_type": "code",
   "execution_count": 37,
   "metadata": {
    "collapsed": true
   },
   "outputs": [],
   "source": [
    "def remove_duplicate_char(s):\n",
    "    s = list(s)\n",
    "    for i, x in enumerate(s):\n",
    "        for j, y in enumerate(s):\n",
    "            if x == y and i != j:\n",
    "                s.pop(j)\n",
    "    return s"
   ]
  },
  {
   "cell_type": "code",
   "execution_count": 38,
   "metadata": {
    "collapsed": false
   },
   "outputs": [
    {
     "data": {
      "text/plain": [
       "['m', 'a', 's', 'i', 'l']"
      ]
     },
     "execution_count": 38,
     "metadata": {},
     "output_type": "execute_result"
    }
   ],
   "source": [
    "remove_duplicate_char('massil')"
   ]
  },
  {
   "cell_type": "markdown",
   "metadata": {},
   "source": [
    "# exercise 1.4"
   ]
  },
  {
   "cell_type": "code",
   "execution_count": null,
   "metadata": {
    "collapsed": true
   },
   "outputs": [],
   "source": [
    "def are_they_anagram(s1, s2):\n",
    "    s1 = list(s1)\n",
    "    s2 = list(s2)"
   ]
  }
 ],
 "metadata": {
  "kernelspec": {
   "display_name": "Python 2",
   "language": "python",
   "name": "python2"
  },
  "language_info": {
   "codemirror_mode": {
    "name": "ipython",
    "version": 2
   },
   "file_extension": ".py",
   "mimetype": "text/x-python",
   "name": "python",
   "nbconvert_exporter": "python",
   "pygments_lexer": "ipython2",
   "version": "2.7.10"
  }
 },
 "nbformat": 4,
 "nbformat_minor": 0
}
