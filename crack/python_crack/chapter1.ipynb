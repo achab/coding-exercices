{
 "cells": [
  {
   "cell_type": "markdown",
   "metadata": {},
   "source": [
    "# exercise 1.1"
   ]
  },
  {
   "cell_type": "code",
   "execution_count": null,
   "metadata": {
    "collapsed": true
   },
   "outputs": [],
   "source": [
    "def string_with_unique_characters(s):\n",
    "    d = {}\n",
    "    for x in s:\n",
    "        d[x] = 1\n",
    "    return len(d) == len(s)\n",
    "def string_with_unique_characters_2(s):\n",
    "    c = 0\n",
    "    for i, x in enumerate(s):\n",
    "        for j, y in enumerate(s):\n",
    "            if x == y and i != j:\n",
    "                c += 1\n",
    "    return c == 0"
   ]
  },
  {
   "cell_type": "code",
   "execution_count": 19,
   "metadata": {
    "collapsed": false
   },
   "outputs": [
    {
     "name": "stdout",
     "output_type": "stream",
     "text": [
      "False\n",
      "True\n",
      "False\n",
      "True\n"
     ]
    }
   ],
   "source": [
    "print string_with_unique_characters('massil')\n",
    "print string_with_unique_characters('masil')\n",
    "print string_with_unique_characters_2('massil')\n",
    "print string_with_unique_characters_2('masil')"
   ]
  },
  {
   "cell_type": "markdown",
   "metadata": {},
   "source": [
    "# exercise 1.2"
   ]
  },
  {
   "cell_type": "code",
   "execution_count": 27,
   "metadata": {
    "collapsed": true
   },
   "outputs": [],
   "source": [
    "def reverse_string(s):\n",
    "    return s[::-1]\n",
    "def reverse_string_2(s):\n",
    "    s_reverse = ''\n",
    "    for x in s:\n",
    "        s_reverse = x + s_reverse\n",
    "    return s_reverse"
   ]
  },
  {
   "cell_type": "code",
   "execution_count": 28,
   "metadata": {
    "collapsed": false
   },
   "outputs": [
    {
     "name": "stdout",
     "output_type": "stream",
     "text": [
      "lissam\n",
      "lissam\n"
     ]
    }
   ],
   "source": [
    "print reverse_string('massil')\n",
    "print reverse_string_2('massil')"
   ]
  },
  {
   "cell_type": "markdown",
   "metadata": {},
   "source": [
    "# exercise 1.3"
   ]
  },
  {
   "cell_type": "code",
   "execution_count": 37,
   "metadata": {
    "collapsed": true
   },
   "outputs": [],
   "source": [
    "def remove_duplicate_char(s):\n",
    "    s = list(s)\n",
    "    for i, x in enumerate(s):\n",
    "        for j, y in enumerate(s):\n",
    "            if x == y and i != j:\n",
    "                s.pop(j)\n",
    "    return s"
   ]
  },
  {
   "cell_type": "code",
   "execution_count": 38,
   "metadata": {
    "collapsed": false
   },
   "outputs": [
    {
     "data": {
      "text/plain": [
       "['m', 'a', 's', 'i', 'l']"
      ]
     },
     "execution_count": 38,
     "metadata": {},
     "output_type": "execute_result"
    }
   ],
   "source": [
    "remove_duplicate_char('massil')"
   ]
  },
  {
   "cell_type": "markdown",
   "metadata": {},
   "source": [
    "# exercise 1.4"
   ]
  },
  {
   "cell_type": "code",
   "execution_count": 4,
   "metadata": {
    "collapsed": true
   },
   "outputs": [],
   "source": [
    "def are_they_anagram(s1, s2):\n",
    "    if len(s1) != len(s2):\n",
    "        return False\n",
    "    else:\n",
    "        s2 = list(s2)\n",
    "        for x in s1:\n",
    "            for j, y in enumerate(s2):\n",
    "                if x == y:\n",
    "                    s2.pop(j)\n",
    "        return s2 == []"
   ]
  },
  {
   "cell_type": "code",
   "execution_count": 6,
   "metadata": {
    "collapsed": false
   },
   "outputs": [
    {
     "name": "stdout",
     "output_type": "stream",
     "text": [
      "False\n",
      "True\n"
     ]
    }
   ],
   "source": [
    "print are_they_anagram('massil', 'masil')\n",
    "print are_they_anagram('massil', 'silmas')"
   ]
  },
  {
   "cell_type": "markdown",
   "metadata": {},
   "source": [
    "# exercise 1.5"
   ]
  },
  {
   "cell_type": "code",
   "execution_count": 10,
   "metadata": {
    "collapsed": true
   },
   "outputs": [],
   "source": [
    "def replace_spaces(s):\n",
    "    s = list(s)\n",
    "    for i, x in enumerate(s):\n",
    "        if x == ' ': s[i] = '%20'\n",
    "    return ''.join(s)"
   ]
  },
  {
   "cell_type": "code",
   "execution_count": 11,
   "metadata": {
    "collapsed": false
   },
   "outputs": [
    {
     "name": "stdout",
     "output_type": "stream",
     "text": [
      "massil%20achab\n",
      "%20je%20suis%20la%20\n"
     ]
    }
   ],
   "source": [
    "print replace_spaces('massil achab')\n",
    "print replace_spaces(' je suis la ')"
   ]
  },
  {
   "cell_type": "markdown",
   "metadata": {},
   "source": [
    "# exercise 1.6"
   ]
  },
  {
   "cell_type": "code",
   "execution_count": 7,
   "metadata": {
    "collapsed": true
   },
   "outputs": [],
   "source": [
    "def rotate(A):\n",
    "    n = len(A)\n",
    "    for layer in range(n/2):\n",
    "        first = layer\n",
    "        last = n-1-layer\n",
    "        for i in range(first, last):\n",
    "            offset = i - first\n",
    "            top = A[first][i]\n",
    "            # left -> top\n",
    "            A[first][i] = A[last-offset][first]\n",
    "            # bottom -> left\n",
    "            A[last-offset][first] = A[last][last-offset]\n",
    "            # right -> bottom\n",
    "            A[last][last-offset] = A[i][last]\n",
    "            # top -> right\n",
    "            A[i][last] = top"
   ]
  },
  {
   "cell_type": "code",
   "execution_count": 9,
   "metadata": {
    "collapsed": false
   },
   "outputs": [
    {
     "name": "stdout",
     "output_type": "stream",
     "text": [
      "[[ 0  1  2  3  4]\n",
      " [ 5  6  7  8  9]\n",
      " [10 11 12 13 14]\n",
      " [15 16 17 18 19]\n",
      " [20 21 22 23 24]]\n",
      "[[20 15 10  5  0]\n",
      " [21 16 11  6  1]\n",
      " [22 17 12  7  2]\n",
      " [23 18 13  8  3]\n",
      " [24 19 14  9  4]]\n"
     ]
    }
   ],
   "source": [
    "A = np.arange(25).reshape(5,5)\n",
    "print A\n",
    "rotate(A)\n",
    "print A"
   ]
  },
  {
   "cell_type": "markdown",
   "metadata": {},
   "source": [
    "# exercise 1.7"
   ]
  },
  {
   "cell_type": "code",
   "execution_count": null,
   "metadata": {
    "collapsed": true
   },
   "outputs": [],
   "source": []
  }
 ],
 "metadata": {
  "kernelspec": {
   "display_name": "Python 2",
   "language": "python",
   "name": "python2"
  },
  "language_info": {
   "codemirror_mode": {
    "name": "ipython",
    "version": 2
   },
   "file_extension": ".py",
   "mimetype": "text/x-python",
   "name": "python",
   "nbconvert_exporter": "python",
   "pygments_lexer": "ipython2",
   "version": "2.7.10"
  }
 },
 "nbformat": 4,
 "nbformat_minor": 0
}
